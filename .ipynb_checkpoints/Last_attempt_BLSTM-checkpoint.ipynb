{
 "cells": [
  {
   "cell_type": "markdown",
   "metadata": {},
   "source": [
    "# Importing data and packages"
   ]
  },
  {
   "cell_type": "code",
   "execution_count": 1,
   "metadata": {},
   "outputs": [],
   "source": [
    "import pandas as pd\n",
    "import numpy as np\n",
    "import seaborn as sns\n",
    "import matplotlib.pyplot as plt\n",
    "import re,string\n",
    "import tensorflow as tf\n",
    "from string import punctuation\n",
    "from nltk.tokenize import word_tokenize\n",
    "from sklearn.metrics import classification_report,confusion_matrix,accuracy_score\n",
    "\n",
    "\n",
    "\n"
   ]
  },
  {
   "cell_type": "code",
   "execution_count": 2,
   "metadata": {},
   "outputs": [
    {
     "data": {
      "text/html": [
       "<div>\n",
       "<style scoped>\n",
       "    .dataframe tbody tr th:only-of-type {\n",
       "        vertical-align: middle;\n",
       "    }\n",
       "\n",
       "    .dataframe tbody tr th {\n",
       "        vertical-align: top;\n",
       "    }\n",
       "\n",
       "    .dataframe thead th {\n",
       "        text-align: right;\n",
       "    }\n",
       "</style>\n",
       "<table border=\"1\" class=\"dataframe\">\n",
       "  <thead>\n",
       "    <tr style=\"text-align: right;\">\n",
       "      <th></th>\n",
       "      <th>tweet_id</th>\n",
       "      <th>user_id</th>\n",
       "      <th>text</th>\n",
       "      <th>label</th>\n",
       "    </tr>\n",
       "  </thead>\n",
       "  <tbody>\n",
       "    <tr>\n",
       "      <th>0</th>\n",
       "      <td>699725964326915</td>\n",
       "      <td>246324638513337</td>\n",
       "      <td>CONTRORDINE COMPAGNI. \\nFATE GIRARE LA VOCE CH...</td>\n",
       "      <td>AGAINST</td>\n",
       "    </tr>\n",
       "    <tr>\n",
       "      <th>1</th>\n",
       "      <td>935933812070316</td>\n",
       "      <td>102639953724275</td>\n",
       "      <td>A proposito dell'incontro delle @6000sardine c...</td>\n",
       "      <td>NONE</td>\n",
       "    </tr>\n",
       "    <tr>\n",
       "      <th>2</th>\n",
       "      <td>645018490992395</td>\n",
       "      <td>827980738531521</td>\n",
       "      <td>Care sardine che richiamate in continuazione i...</td>\n",
       "      <td>AGAINST</td>\n",
       "    </tr>\n",
       "    <tr>\n",
       "      <th>3</th>\n",
       "      <td>544253932762359</td>\n",
       "      <td>550094690571751</td>\n",
       "      <td>Domanda ad una sardina \" secondo te Qual è il ...</td>\n",
       "      <td>AGAINST</td>\n",
       "    </tr>\n",
       "    <tr>\n",
       "      <th>4</th>\n",
       "      <td>250599450823911</td>\n",
       "      <td>596243198626016</td>\n",
       "      <td>A salvini non gli frega nulla delle sardine no...</td>\n",
       "      <td>NONE</td>\n",
       "    </tr>\n",
       "  </tbody>\n",
       "</table>\n",
       "</div>"
      ],
      "text/plain": [
       "          tweet_id          user_id  \\\n",
       "0  699725964326915  246324638513337   \n",
       "1  935933812070316  102639953724275   \n",
       "2  645018490992395  827980738531521   \n",
       "3  544253932762359  550094690571751   \n",
       "4  250599450823911  596243198626016   \n",
       "\n",
       "                                                text    label  \n",
       "0  CONTRORDINE COMPAGNI. \\nFATE GIRARE LA VOCE CH...  AGAINST  \n",
       "1  A proposito dell'incontro delle @6000sardine c...     NONE  \n",
       "2  Care sardine che richiamate in continuazione i...  AGAINST  \n",
       "3  Domanda ad una sardina \" secondo te Qual è il ...  AGAINST  \n",
       "4  A salvini non gli frega nulla delle sardine no...     NONE  "
      ]
     },
     "execution_count": 2,
     "metadata": {},
     "output_type": "execute_result"
    }
   ],
   "source": [
    "data = pd.read_csv('TRAIN.csv')\n",
    "data.head()"
   ]
  },
  {
   "cell_type": "markdown",
   "metadata": {},
   "source": [
    "# Analyzing the data"
   ]
  },
  {
   "cell_type": "code",
   "execution_count": 3,
   "metadata": {},
   "outputs": [
    {
     "data": {
      "text/plain": [
       "AGAINST    1028\n",
       "FAVOR       589\n",
       "NONE        515\n",
       "Name: label, dtype: int64"
      ]
     },
     "execution_count": 3,
     "metadata": {},
     "output_type": "execute_result"
    }
   ],
   "source": [
    "data.label.value_counts()"
   ]
  },
  {
   "cell_type": "markdown",
   "metadata": {},
   "source": [
    "The dataset is not balanced. The AGAINST label apperars almost twice as often as FAVOR and NONE. Considering that the dataset is not too big, it would require some data augmentation, which we are not allowed to use for this task. "
   ]
  },
  {
   "cell_type": "markdown",
   "metadata": {},
   "source": [
    "## looking at some text"
   ]
  },
  {
   "cell_type": "code",
   "execution_count": 4,
   "metadata": {},
   "outputs": [
    {
     "data": {
      "text/plain": [
       "'CONTRORDINE COMPAGNI. \\nFATE GIRARE LA VOCE CHE IL TERREMOTO DI QUESTA NOTTE A FIRENZE E\\' COLPA DI: \"HAAAAAAAAAAAAAAAAAA STATO SALVINIIIIIIIIIIIII.\"\\n🤣🤣🤣🤣🤣🤣🤣🤣🤣🤣🤣🤣🤣🤣🤣🤣🤣🤣🤣🤣'"
      ]
     },
     "execution_count": 4,
     "metadata": {},
     "output_type": "execute_result"
    }
   ],
   "source": [
    "data.text[0]"
   ]
  },
  {
   "cell_type": "code",
   "execution_count": 5,
   "metadata": {},
   "outputs": [
    {
     "data": {
      "text/plain": [
       "\"I fuoriusciti PD non confluiti in FIV #forzitaliaviva voteranno #sardine e, date le manovre in corso,  dopo le elezioni verranno chiamate pecore e immediatamente ricondotte all'ovile.\""
      ]
     },
     "execution_count": 5,
     "metadata": {},
     "output_type": "execute_result"
    }
   ],
   "source": [
    "data.text[10]"
   ]
  },
  {
   "cell_type": "code",
   "execution_count": 6,
   "metadata": {},
   "outputs": [
    {
     "data": {
      "text/plain": [
       "'Facciamo che questo nuovo ventennio duri di meno e sia meno catastrofico?\\n\\n#Sardine , conto su di voi.'"
      ]
     },
     "execution_count": 6,
     "metadata": {},
     "output_type": "execute_result"
    }
   ],
   "source": [
    "data.text[50]"
   ]
  },
  {
   "cell_type": "code",
   "execution_count": 7,
   "metadata": {},
   "outputs": [
    {
     "data": {
      "text/plain": [
       "'#Sardine altra creazione mangiareccia a firma #PD #nonsannopiucheinventarsi'"
      ]
     },
     "execution_count": 7,
     "metadata": {},
     "output_type": "execute_result"
    }
   ],
   "source": [
    "data.text[100]"
   ]
  },
  {
   "cell_type": "code",
   "execution_count": 8,
   "metadata": {},
   "outputs": [
    {
     "data": {
      "text/plain": [
       "Index(['tweet_id', 'user_id', 'text', 'label'], dtype='object')"
      ]
     },
     "execution_count": 8,
     "metadata": {},
     "output_type": "execute_result"
    }
   ],
   "source": [
    "data.columns"
   ]
  },
  {
   "cell_type": "code",
   "execution_count": 9,
   "metadata": {},
   "outputs": [
    {
     "data": {
      "image/png": "[encoded data removed]",
      "text/plain": [
       "<Figure size 432x288 with 1 Axes>"
      ]
     },
     "metadata": {
      "needs_background": "light"
     },
     "output_type": "display_data"
    }
   ],
   "source": [
    "plt.hist(data['label'], bins = 3)\n",
    "plt.show()"
   ]
  },
  {
   "cell_type": "code",
   "execution_count": 10,
   "metadata": {},
   "outputs": [
    {
     "data": {
      "text/plain": [
       "<AxesSubplot:xlabel='label', ylabel='Count'>"
      ]
     },
     "execution_count": 10,
     "metadata": {},
     "output_type": "execute_result"
    },
    {
     "data": {
      "image/png": "[encoded data removed]",
      "text/plain": [
       "<Figure size 432x288 with 1 Axes>"
      ]
     },
     "metadata": {
      "needs_background": "light"
     },
     "output_type": "display_data"
    }
   ],
   "source": [
    "sns.histplot(data=data, x=data['label'])"
   ]
  },
  {
   "cell_type": "code",
   "execution_count": 11,
   "metadata": {},
   "outputs": [
    {
     "name": "stdout",
     "output_type": "stream",
     "text": [
      "<class 'pandas.core.frame.DataFrame'>\n",
      "RangeIndex: 2132 entries, 0 to 2131\n",
      "Data columns (total 4 columns):\n",
      "tweet_id    2132 non-null int64\n",
      "user_id     2132 non-null int64\n",
      "text        2132 non-null object\n",
      "label       2132 non-null object\n",
      "dtypes: int64(2), object(2)\n",
      "memory usage: 66.7+ KB\n"
     ]
    }
   ],
   "source": [
    "data.info()"
   ]
  },
  {
   "cell_type": "markdown",
   "metadata": {},
   "source": [
    "# Builnding the NLP pipeline"
   ]
  },
  {
   "cell_type": "markdown",
   "metadata": {},
   "source": [
    "## Lowercasing the text"
   ]
  },
  {
   "cell_type": "code",
   "execution_count": 12,
   "metadata": {},
   "outputs": [],
   "source": [
    "data['text']=data['text'].str.lower()"
   ]
  },
  {
   "cell_type": "code",
   "execution_count": 13,
   "metadata": {},
   "outputs": [
    {
     "data": {
      "text/plain": [
       "'@nzingaretti \\ni nuovi fascisti di sinistra sono le sardine?'"
      ]
     },
     "execution_count": 13,
     "metadata": {},
     "output_type": "execute_result"
    }
   ],
   "source": [
    "data.text[59]"
   ]
  },
  {
   "cell_type": "code",
   "execution_count": 14,
   "metadata": {},
   "outputs": [],
   "source": [
    "import string\n",
    "\n",
    "punc_no_sq = '!“#$%&\\()*+,./:;<=>?@[\\\\]^_`{|}~“”—’-'\n",
    "\n",
    "def remove_punctuation(text):\n",
    "    for punctuation in punc_no_sq:\n",
    "        text = text.replace(punctuation, '')\n",
    "    return text"
   ]
  },
  {
   "cell_type": "code",
   "execution_count": 15,
   "metadata": {},
   "outputs": [],
   "source": [
    "data['text']=data['text'].apply(remove_punctuation)"
   ]
  },
  {
   "cell_type": "code",
   "execution_count": 16,
   "metadata": {},
   "outputs": [
    {
     "data": {
      "text/plain": [
       "'nzingaretti \\ni nuovi fascisti di sinistra sono le sardine'"
      ]
     },
     "execution_count": 16,
     "metadata": {},
     "output_type": "execute_result"
    }
   ],
   "source": [
    "data.text[59]"
   ]
  },
  {
   "cell_type": "code",
   "execution_count": 17,
   "metadata": {},
   "outputs": [],
   "source": [
    "data = data.replace('\\n','', regex=True)"
   ]
  },
  {
   "cell_type": "code",
   "execution_count": 18,
   "metadata": {},
   "outputs": [
    {
     "data": {
      "text/plain": [
       "tweet_id     int64\n",
       "user_id      int64\n",
       "text        object\n",
       "label       object\n",
       "dtype: object"
      ]
     },
     "execution_count": 18,
     "metadata": {},
     "output_type": "execute_result"
    }
   ],
   "source": [
    "data.dtypes"
   ]
  },
  {
   "cell_type": "code",
   "execution_count": 19,
   "metadata": {},
   "outputs": [
    {
     "data": {
      "text/plain": [
       "'nzingaretti i nuovi fascisti di sinistra sono le sardine'"
      ]
     },
     "execution_count": 19,
     "metadata": {},
     "output_type": "execute_result"
    }
   ],
   "source": [
    "data.text[59]"
   ]
  },
  {
   "cell_type": "code",
   "execution_count": null,
   "metadata": {},
   "outputs": [],
   "source": []
  },
  {
   "cell_type": "code",
   "execution_count": null,
   "metadata": {},
   "outputs": [],
   "source": []
  },
  {
   "cell_type": "markdown",
   "metadata": {},
   "source": [
    "## Splitting train and test "
   ]
  },
  {
   "cell_type": "code",
   "execution_count": 20,
   "metadata": {},
   "outputs": [
    {
     "name": "stdout",
     "output_type": "stream",
     "text": [
      "Object `train_test_split` not found.\n"
     ]
    }
   ],
   "source": [
    "train_test_split?"
   ]
  },
  {
   "cell_type": "code",
   "execution_count": 49,
   "metadata": {
    "scrolled": true
   },
   "outputs": [
    {
     "name": "stdout",
     "output_type": "stream",
     "text": [
      "(426,)\n",
      "(1706,)\n",
      "713     AGAINST\n",
      "1113    AGAINST\n",
      "218     AGAINST\n",
      "1326      FAVOR\n",
      "807     AGAINST\n",
      "1611    AGAINST\n",
      "1587    AGAINST\n",
      "494     AGAINST\n",
      "1238    AGAINST\n",
      "1879    AGAINST\n",
      "1471      FAVOR\n",
      "1796    AGAINST\n",
      "650     AGAINST\n",
      "1080    AGAINST\n",
      "388        NONE\n",
      "455        NONE\n",
      "1039    AGAINST\n",
      "1806       NONE\n",
      "450     AGAINST\n",
      "2003      FAVOR\n",
      "927     AGAINST\n",
      "1418    AGAINST\n",
      "2047       NONE\n",
      "1661    AGAINST\n",
      "1030    AGAINST\n",
      "1048      FAVOR\n",
      "2052       NONE\n",
      "1434    AGAINST\n",
      "984     AGAINST\n",
      "610        NONE\n",
      "         ...   \n",
      "2014      FAVOR\n",
      "1355      FAVOR\n",
      "441     AGAINST\n",
      "1269    AGAINST\n",
      "256       FAVOR\n",
      "748     AGAINST\n",
      "1688       NONE\n",
      "1550      FAVOR\n",
      "1284      FAVOR\n",
      "1519    AGAINST\n",
      "686     AGAINST\n",
      "1160    AGAINST\n",
      "1888    AGAINST\n",
      "507     AGAINST\n",
      "89         NONE\n",
      "1649      FAVOR\n",
      "764     AGAINST\n",
      "843     AGAINST\n",
      "1316      FAVOR\n",
      "351       FAVOR\n",
      "2032      FAVOR\n",
      "1856    AGAINST\n",
      "939     AGAINST\n",
      "708        NONE\n",
      "702     AGAINST\n",
      "332        NONE\n",
      "689       FAVOR\n",
      "1675      FAVOR\n",
      "372       FAVOR\n",
      "2024      FAVOR\n",
      "Name: label, Length: 426, dtype: object\n"
     ]
    }
   ],
   "source": [
    "from sklearn.model_selection import train_test_split\n",
    "\n",
    "xtrain, xtest, ytrain, ytest = train_test_split(\n",
    " data['text'], data['label'], \n",
    " test_size=0.80, \n",
    " random_state=12, stratify=data['label'])\n",
    "\n",
    "print(xtrain.shape)\n",
    "print(xtest.shape)\n",
    "print(ytrain)"
   ]
  },
  {
   "cell_type": "code",
   "execution_count": 50,
   "metadata": {},
   "outputs": [],
   "source": [
    "from sklearn.preprocessing import LabelEncoder\n",
    "\n",
    "\n",
    "le = LabelEncoder()\n",
    "ytrain_enc = le.fit_transform(ytrain)\n",
    "ytest_enc = le.transform(ytest)"
   ]
  },
  {
   "cell_type": "markdown",
   "metadata": {},
   "source": [
    "## Setting hyperparameters"
   ]
  },
  {
   "cell_type": "code",
   "execution_count": 51,
   "metadata": {},
   "outputs": [],
   "source": [
    "EMBEDDING_DIMENSION = 128\n",
    "VOCABULARY_SIZE = 4000\n",
    "MAX_LENGTH = 100\n",
    "OOV_TOK = '<OOV>'\n",
    "TRUNCATE_TYPE = 'post'\n",
    "PADDING_TYPE = 'post'"
   ]
  },
  {
   "cell_type": "code",
   "execution_count": 52,
   "metadata": {},
   "outputs": [],
   "source": [
    "from keras.preprocessing import sequence\n",
    "from keras.preprocessing.text import Tokenizer\n",
    "from keras.callbacks import EarlyStopping\n",
    "import matplotlib.pyplot as plt"
   ]
  },
  {
   "cell_type": "markdown",
   "metadata": {},
   "source": [
    "## Tokenization"
   ]
  },
  {
   "cell_type": "code",
   "execution_count": 57,
   "metadata": {},
   "outputs": [],
   "source": [
    "tokenizer = Tokenizer(num_words=VOCABULARY_SIZE, oov_token=OOV_TOK)\n",
    "tokenizer.fit_on_texts(list(xtrain) + list(xtest))"
   ]
  },
  {
   "cell_type": "code",
   "execution_count": 58,
   "metadata": {},
   "outputs": [
    {
     "name": "stdout",
     "output_type": "stream",
     "text": [
      "Vocabulary size: 12071\n"
     ]
    },
    {
     "data": {
      "text/plain": [
       "{'<OOV>': 1,\n",
       " 'di': 2,\n",
       " 'sardine': 3,\n",
       " 'e': 4,\n",
       " 'che': 5,\n",
       " 'a': 6,\n",
       " 'il': 7,\n",
       " 'le': 8,\n",
       " 'la': 9,\n",
       " 'non': 10}"
      ]
     },
     "execution_count": 58,
     "metadata": {},
     "output_type": "execute_result"
    }
   ],
   "source": [
    "xtrain_sequences = tokenizer.texts_to_sequences(xtrain)\n",
    "xtest_sequences = tokenizer.texts_to_sequences(xtest)\n",
    "word_index = tokenizer.word_index\n",
    "print('Vocabulary size:', len(word_index))\n",
    "dict(list(word_index.items())[0:10])"
   ]
  },
  {
   "cell_type": "code",
   "execution_count": 59,
   "metadata": {},
   "outputs": [
    {
     "name": "stdout",
     "output_type": "stream",
     "text": [
      "[18, 143, 68, 3, 4, 18, 143, 68, 1, 1080, 20, 1]\n"
     ]
    }
   ],
   "source": [
    "print(xtrain_sequences[100])"
   ]
  },
  {
   "cell_type": "code",
   "execution_count": 60,
   "metadata": {},
   "outputs": [
    {
     "name": "stdout",
     "output_type": "stream",
     "text": [
      "12\n",
      "100\n",
      "[  18  143   68    3    4   18  143   68    1 1080   20    1    0    0\n",
      "    0    0    0    0    0    0    0    0    0    0    0    0    0    0\n",
      "    0    0    0    0    0    0    0    0    0    0    0    0    0    0\n",
      "    0    0    0    0    0    0    0    0    0    0    0    0    0    0\n",
      "    0    0    0    0    0    0    0    0    0    0    0    0    0    0\n",
      "    0    0    0    0    0    0    0    0    0    0    0    0    0    0\n",
      "    0    0    0    0    0    0    0    0    0    0    0    0    0    0\n",
      "    0    0]\n"
     ]
    }
   ],
   "source": [
    "xtrain_pad = sequence.pad_sequences(xtrain_sequences, maxlen=MAX_LENGTH, padding=PADDING_TYPE, truncating=TRUNCATE_TYPE)\n",
    "xtest_pad = sequence.pad_sequences(xtest_sequences, maxlen=MAX_LENGTH, padding=PADDING_TYPE, truncating=TRUNCATE_TYPE)\n",
    "print(len(xtrain_sequences[0]))\n",
    "print(len(xtrain_pad[0]))\n",
    "print(xtrain_pad[100])"
   ]
  },
  {
   "cell_type": "code",
   "execution_count": 61,
   "metadata": {},
   "outputs": [
    {
     "name": "stdout",
     "output_type": "stream",
     "text": [
      "[1]\n",
      "[1]\n",
      "[1]\n",
      "(426, 1)\n"
     ]
    }
   ],
   "source": [
    "label_tokenizer = Tokenizer()\n",
    "label_tokenizer.fit_on_texts(list(ytrain))\n",
    "training_label_seq = np.array(label_tokenizer.texts_to_sequences(ytrain))\n",
    "test_label_seq = np.array(label_tokenizer.texts_to_sequences(ytest))\n",
    "print(training_label_seq[0])\n",
    "print(training_label_seq[1])\n",
    "print(training_label_seq[2])\n",
    "print(training_label_seq.shape)"
   ]
  },
  {
   "cell_type": "markdown",
   "metadata": {},
   "source": [
    "Encoded"
   ]
  },
  {
   "cell_type": "code",
   "execution_count": 64,
   "metadata": {},
   "outputs": [
    {
     "data": {
      "text/plain": [
       "array([0, 0, 0, 1, 0, 0, 0, 0, 0, 0, 1, 0, 0, 0, 2, 2, 0, 2, 0, 1, 0, 0,\n",
       "       2, 0, 0, 1, 2, 0, 0, 2, 2, 0, 2, 0, 1, 0, 0, 1, 0, 1, 0, 2, 0, 0,\n",
       "       0, 1, 1, 2, 0, 0, 1, 0, 0, 2, 0, 2, 0, 2, 0, 2, 2, 0, 0, 2, 1, 0,\n",
       "       1, 1, 1, 0, 0, 0, 2, 0, 2, 1, 0, 2, 1, 2, 0, 0, 1, 2, 0, 2, 1, 2,\n",
       "       2, 1, 0, 0, 0, 1, 0, 0, 0, 0, 0, 0, 1, 2, 1, 2, 0, 0, 0, 0, 2, 1,\n",
       "       1, 0, 2, 1, 0, 2, 1, 2, 2, 0, 0, 1, 0, 0, 2, 0, 0, 0, 1, 0, 1, 2,\n",
       "       1, 0, 0, 2, 2, 2, 2, 1, 0, 0, 2, 2, 0, 1, 0, 2, 1, 0, 0, 1, 0, 1,\n",
       "       0, 0, 0, 1, 0, 0, 2, 0, 2, 0, 1, 0, 0, 1, 0, 2, 0, 0, 0, 0, 1, 2,\n",
       "       0, 1, 1, 1, 0, 0, 1, 1, 1, 0, 0, 0, 0, 2, 2, 0, 2, 2, 1, 0, 1, 0,\n",
       "       2, 2, 1, 2, 0, 0, 2, 2, 2, 1, 1, 0, 1, 2, 0, 1, 0, 0, 0, 1, 0, 0,\n",
       "       2, 2, 0, 0, 2, 1, 0, 0, 0, 0, 2, 0, 2, 2, 0, 0, 2, 2, 1, 2, 1, 1,\n",
       "       0, 0, 0, 0, 0, 0, 1, 0, 0, 1, 0, 1, 0, 1, 1, 0, 0, 1, 0, 1, 1, 1,\n",
       "       0, 1, 0, 0, 0, 0, 0, 2, 1, 0, 2, 2, 0, 0, 0, 1, 2, 0, 0, 0, 1, 1,\n",
       "       0, 0, 1, 2, 0, 0, 0, 1, 1, 1, 0, 1, 0, 1, 0, 1, 2, 1, 2, 1, 0, 0,\n",
       "       2, 1, 1, 1, 0, 1, 2, 0, 1, 1, 2, 0, 1, 2, 2, 2, 0, 0, 1, 2, 0, 0,\n",
       "       1, 2, 0, 1, 2, 0, 2, 2, 1, 1, 2, 0, 0, 0, 2, 1, 1, 0, 0, 0, 0, 2,\n",
       "       0, 2, 1, 0, 0, 2, 0, 1, 0, 1, 0, 0, 1, 1, 0, 2, 2, 0, 0, 1, 0, 0,\n",
       "       2, 2, 2, 0, 2, 2, 2, 1, 0, 0, 0, 0, 2, 2, 0, 1, 1, 1, 2, 0, 2, 1,\n",
       "       1, 1, 0, 0, 1, 0, 2, 1, 1, 0, 0, 0, 0, 0, 2, 1, 0, 0, 1, 1, 1, 0,\n",
       "       0, 2, 0, 2, 1, 1, 1, 1])"
      ]
     },
     "execution_count": 64,
     "metadata": {},
     "output_type": "execute_result"
    }
   ],
   "source": [
    "ytrain_enc"
   ]
  },
  {
   "cell_type": "markdown",
   "metadata": {},
   "source": [
    "## Building the model"
   ]
  },
  {
   "cell_type": "code",
   "execution_count": 65,
   "metadata": {},
   "outputs": [],
   "source": [
    "from tqdm import tqdm\n",
    "from keras.models import Sequential\n",
    "from keras.layers.recurrent import LSTM, GRU\n",
    "from keras.layers.core import Dense, Activation, Dropout\n",
    "from keras.layers.embeddings import Embedding\n",
    "from keras.layers.normalization import BatchNormalization\n",
    "from keras.utils import np_utils\n",
    "import keras\n",
    "from keras.layers import GlobalMaxPooling1D, Conv1D, MaxPooling1D, Flatten, Bidirectional, SpatialDropout1D"
   ]
  },
  {
   "cell_type": "code",
   "execution_count": 66,
   "metadata": {},
   "outputs": [],
   "source": [
    "model = Sequential()\n",
    "model.add(Embedding(len(word_index) + 1,\n",
    "                     EMBEDDING_DIMENSION))\n",
    "model.add(SpatialDropout1D(0.3))\n",
    "model.add(Bidirectional(LSTM(EMBEDDING_DIMENSION, dropout=0.3, recurrent_dropout=0.3)))\n",
    "model.add(Dense(EMBEDDING_DIMENSION, activation='relu'))\n",
    "model.add(Dropout(0.3))\n",
    "model.add(Dense(EMBEDDING_DIMENSION, activation='relu'))\n",
    "model.add(Dropout(0.3))\n",
    "model.add(Dense(3))\n",
    "model.add(Activation('softmax'))\n",
    "opt = keras.optimizers.Adam(learning_rate=0.001)\n",
    "model.compile(loss='sparse_categorical_crossentropy', optimizer=opt ,metrics=['accuracy'])"
   ]
  },
  {
   "cell_type": "code",
   "execution_count": 67,
   "metadata": {},
   "outputs": [],
   "source": [
    "model = Sequential()\n",
    "model.add(Embedding(len(word_index) + 1,\n",
    "                     EMBEDDING_DIMENSION))\n",
    "# model.add(SpatialDropout1D(0.3))\n",
    "model.add(Bidirectional(LSTM(EMBEDDING_DIMENSION)))\n",
    "model.add(Dense(EMBEDDING_DIMENSION, activation='relu'))\n",
    "#model.add(Dropout(0.3))\n",
    "model.add(Dense(EMBEDDING_DIMENSION, activation='relu'))\n",
    "#model.add(Dropout(0.3))\n",
    "model.add(Dense(3))\n",
    "model.add(Activation('softmax'))\n",
    "opt = keras.optimizers.Adam(learning_rate=0.0004)\n",
    "model.compile(loss='sparse_categorical_crossentropy', optimizer=opt ,metrics=['accuracy'])"
   ]
  },
  {
   "cell_type": "code",
   "execution_count": 68,
   "metadata": {},
   "outputs": [
    {
     "name": "stdout",
     "output_type": "stream",
     "text": [
      "Epoch 1/50\n",
      "7/7 - 2s - loss: 1.0930 - accuracy: 0.4108 - val_loss: 1.0807 - val_accuracy: 0.4824\n",
      "Epoch 2/50\n",
      "7/7 - 2s - loss: 1.0699 - accuracy: 0.4812 - val_loss: 1.0554 - val_accuracy: 0.4824\n",
      "Epoch 3/50\n",
      "7/7 - 2s - loss: 1.0550 - accuracy: 0.4812 - val_loss: 1.0500 - val_accuracy: 0.4824\n",
      "Epoch 4/50\n",
      "7/7 - 2s - loss: 1.0451 - accuracy: 0.4812 - val_loss: 1.0489 - val_accuracy: 0.4824\n",
      "Epoch 5/50\n",
      "7/7 - 2s - loss: 1.0345 - accuracy: 0.4812 - val_loss: 1.0486 - val_accuracy: 0.4824\n",
      "Epoch 6/50\n",
      "7/7 - 2s - loss: 1.0192 - accuracy: 0.4812 - val_loss: 1.0519 - val_accuracy: 0.4824\n",
      "Epoch 7/50\n",
      "7/7 - 2s - loss: 0.9811 - accuracy: 0.4812 - val_loss: 1.0504 - val_accuracy: 0.4812\n",
      "Epoch 8/50\n",
      "7/7 - 2s - loss: 0.8840 - accuracy: 0.5117 - val_loss: 1.0805 - val_accuracy: 0.4865\n",
      "Epoch 9/50\n",
      "7/7 - 2s - loss: 0.7083 - accuracy: 0.6596 - val_loss: 1.2400 - val_accuracy: 0.4771\n",
      "Epoch 10/50\n",
      "7/7 - 2s - loss: 0.5771 - accuracy: 0.7488 - val_loss: 1.7280 - val_accuracy: 0.3757\n",
      "Epoch 11/50\n",
      "7/7 - 2s - loss: 0.5875 - accuracy: 0.7793 - val_loss: 1.2998 - val_accuracy: 0.4226\n",
      "Epoch 12/50\n",
      "7/7 - 2s - loss: 0.7450 - accuracy: 0.6573 - val_loss: 1.2400 - val_accuracy: 0.4320\n",
      "Epoch 13/50\n",
      "7/7 - 2s - loss: 0.6022 - accuracy: 0.7840 - val_loss: 1.1881 - val_accuracy: 0.4132\n",
      "Epoch 14/50\n",
      "7/7 - 2s - loss: 0.5015 - accuracy: 0.8685 - val_loss: 1.2589 - val_accuracy: 0.3904\n",
      "Epoch 15/50\n",
      "7/7 - 2s - loss: 0.4055 - accuracy: 0.9038 - val_loss: 1.4335 - val_accuracy: 0.3980\n",
      "Epoch 16/50\n",
      "7/7 - 2s - loss: 0.3220 - accuracy: 0.9296 - val_loss: 1.6194 - val_accuracy: 0.3957\n",
      "Epoch 17/50\n",
      "7/7 - 2s - loss: 0.2538 - accuracy: 0.9413 - val_loss: 1.9114 - val_accuracy: 0.3921\n",
      "Epoch 18/50\n",
      "7/7 - 2s - loss: 0.2047 - accuracy: 0.9484 - val_loss: 2.0967 - val_accuracy: 0.3945\n",
      "Epoch 19/50\n",
      "7/7 - 2s - loss: 0.1607 - accuracy: 0.9648 - val_loss: 2.3675 - val_accuracy: 0.3927\n",
      "Epoch 20/50\n",
      "7/7 - 2s - loss: 0.1344 - accuracy: 0.9648 - val_loss: 2.4701 - val_accuracy: 0.3904\n",
      "Epoch 21/50\n",
      "7/7 - 2s - loss: 0.1114 - accuracy: 0.9765 - val_loss: 2.6696 - val_accuracy: 0.3910\n",
      "Epoch 22/50\n",
      "7/7 - 2s - loss: 0.0969 - accuracy: 0.9718 - val_loss: 2.8708 - val_accuracy: 0.3916\n",
      "Epoch 23/50\n",
      "7/7 - 2s - loss: 0.0805 - accuracy: 0.9812 - val_loss: 2.8865 - val_accuracy: 0.3916\n",
      "Epoch 24/50\n",
      "7/7 - 2s - loss: 0.0705 - accuracy: 0.9859 - val_loss: 3.0473 - val_accuracy: 0.3939\n",
      "Epoch 25/50\n",
      "7/7 - 2s - loss: 0.0611 - accuracy: 0.9859 - val_loss: 3.1553 - val_accuracy: 0.3886\n",
      "Epoch 26/50\n",
      "7/7 - 2s - loss: 0.0539 - accuracy: 0.9883 - val_loss: 3.2839 - val_accuracy: 0.3945\n",
      "Epoch 27/50\n",
      "7/7 - 2s - loss: 0.0499 - accuracy: 0.9906 - val_loss: 3.4116 - val_accuracy: 0.3998\n",
      "Epoch 28/50\n",
      "7/7 - 2s - loss: 0.0437 - accuracy: 0.9906 - val_loss: 3.5124 - val_accuracy: 0.3916\n",
      "Epoch 29/50\n",
      "7/7 - 2s - loss: 0.0407 - accuracy: 0.9930 - val_loss: 3.6102 - val_accuracy: 0.3998\n",
      "Epoch 30/50\n",
      "7/7 - 2s - loss: 0.0372 - accuracy: 0.9930 - val_loss: 3.7122 - val_accuracy: 0.3986\n",
      "Epoch 31/50\n",
      "7/7 - 2s - loss: 0.0352 - accuracy: 0.9930 - val_loss: 3.7612 - val_accuracy: 0.4004\n",
      "Epoch 32/50\n",
      "7/7 - 2s - loss: 0.0332 - accuracy: 0.9930 - val_loss: 3.8615 - val_accuracy: 0.4004\n",
      "Epoch 33/50\n",
      "7/7 - 2s - loss: 0.0310 - accuracy: 0.9930 - val_loss: 3.9815 - val_accuracy: 0.4039\n",
      "Epoch 34/50\n",
      "7/7 - 2s - loss: 0.0290 - accuracy: 0.9930 - val_loss: 4.0222 - val_accuracy: 0.4021\n",
      "Epoch 35/50\n",
      "7/7 - 2s - loss: 0.0273 - accuracy: 0.9930 - val_loss: 4.1072 - val_accuracy: 0.4062\n",
      "Epoch 36/50\n",
      "7/7 - 2s - loss: 0.0258 - accuracy: 0.9930 - val_loss: 4.2079 - val_accuracy: 0.4091\n",
      "Epoch 37/50\n",
      "7/7 - 2s - loss: 0.0252 - accuracy: 0.9930 - val_loss: 4.2087 - val_accuracy: 0.4109\n",
      "Epoch 38/50\n",
      "7/7 - 3s - loss: 0.0234 - accuracy: 0.9930 - val_loss: 4.2912 - val_accuracy: 0.3957\n",
      "Epoch 39/50\n",
      "7/7 - 2s - loss: 0.0217 - accuracy: 0.9930 - val_loss: 4.4479 - val_accuracy: 0.4115\n",
      "Epoch 40/50\n",
      "7/7 - 2s - loss: 0.0193 - accuracy: 0.9953 - val_loss: 4.4124 - val_accuracy: 0.4150\n",
      "Epoch 41/50\n",
      "7/7 - 2s - loss: 0.0188 - accuracy: 0.9953 - val_loss: 4.4134 - val_accuracy: 0.4121\n",
      "Epoch 42/50\n",
      "7/7 - 2s - loss: 0.0167 - accuracy: 0.9953 - val_loss: 4.5014 - val_accuracy: 0.4086\n",
      "Epoch 43/50\n",
      "7/7 - 2s - loss: 0.0154 - accuracy: 0.9953 - val_loss: 4.5959 - val_accuracy: 0.4091\n",
      "Epoch 44/50\n",
      "7/7 - 2s - loss: 0.0138 - accuracy: 0.9953 - val_loss: 4.6233 - val_accuracy: 0.4068\n",
      "Epoch 45/50\n",
      "7/7 - 2s - loss: 0.0130 - accuracy: 0.9977 - val_loss: 4.6798 - val_accuracy: 0.4056\n",
      "Epoch 46/50\n",
      "7/7 - 2s - loss: 0.0120 - accuracy: 0.9977 - val_loss: 4.7562 - val_accuracy: 0.4068\n",
      "Epoch 47/50\n",
      "7/7 - 2s - loss: 0.0115 - accuracy: 0.9977 - val_loss: 4.7927 - val_accuracy: 0.4091\n",
      "Epoch 48/50\n",
      "7/7 - 2s - loss: 0.0104 - accuracy: 0.9977 - val_loss: 4.8547 - val_accuracy: 0.4062\n",
      "Epoch 49/50\n",
      "7/7 - 2s - loss: 0.0096 - accuracy: 0.9977 - val_loss: 4.9136 - val_accuracy: 0.4009\n",
      "Epoch 50/50\n",
      "7/7 - 2s - loss: 0.0089 - accuracy: 0.9977 - val_loss: 4.9565 - val_accuracy: 0.4056\n"
     ]
    }
   ],
   "source": [
    "num_epochs = 50\n",
    "history = model.fit(xtrain_pad, \n",
    "                    ytrain_enc, epochs=num_epochs,\n",
    "                    validation_data=(xtest_pad, ytest_enc), verbose=2, batch_size=64\n",
    "                   )"
   ]
  },
  {
   "cell_type": "code",
   "execution_count": 69,
   "metadata": {},
   "outputs": [
    {
     "data": {
      "image/png": "[encoded data removed]",
      "text/plain": [
       "<Figure size 432x288 with 1 Axes>"
      ]
     },
     "metadata": {
      "needs_background": "light"
     },
     "output_type": "display_data"
    },
    {
     "data": {
      "image/png": "[encoded data removed]",
      "text/plain": [
       "<Figure size 432x288 with 1 Axes>"
      ]
     },
     "metadata": {
      "needs_background": "light"
     },
     "output_type": "display_data"
    }
   ],
   "source": [
    "def graph_plots(history, string):\n",
    "  plt.plot(history.history[string])\n",
    "  plt.plot(history.history['val_'+string])\n",
    "  plt.xlabel(\"Epochs\")\n",
    "  plt.ylabel(string)\n",
    "  plt.legend([string, 'val_'+string])\n",
    "  plt.show()\n",
    "  \n",
    "graph_plots(history, \"accuracy\")\n",
    "graph_plots(history, \"loss\")"
   ]
  },
  {
   "cell_type": "markdown",
   "metadata": {},
   "source": [
    "After many attemps in which we tried to fine-tune the model, changing the learning rate of the optimizer, splitting the dataset in different ways, we can conclude that for this dataset Bidirectional LSTM might be not the best option. Afte"
   ]
  },
  {
   "cell_type": "code",
   "execution_count": null,
   "metadata": {},
   "outputs": [],
   "source": []
  },
  {
   "cell_type": "code",
   "execution_count": null,
   "metadata": {},
   "outputs": [],
   "source": []
  },
  {
   "cell_type": "code",
   "execution_count": null,
   "metadata": {},
   "outputs": [],
   "source": []
  }
 ],
 "metadata": {
  "kernelspec": {
   "display_name": "Python 3",
   "language": "python",
   "name": "python3"
  },
  "language_info": {
   "codemirror_mode": {
    "name": "ipython",
    "version": 3
   },
   "file_extension": ".py",
   "mimetype": "text/x-python",
   "name": "python",
   "nbconvert_exporter": "python",
   "pygments_lexer": "ipython3",
   "version": "3.7.7"
  },
  "toc": {
   "base_numbering": 1,
   "nav_menu": {},
   "number_sections": true,
   "sideBar": true,
   "skip_h1_title": false,
   "title_cell": "Table of Contents",
   "title_sidebar": "Contents",
   "toc_cell": false,
   "toc_position": {},
   "toc_section_display": true,
   "toc_window_display": false
  }
 },
 "nbformat": 4,
 "nbformat_minor": 4
}
